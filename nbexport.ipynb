{
 "cells": [
  {
   "cell_type": "code",
   "execution_count": null,
   "id": "7d012178",
   "metadata": {},
   "outputs": [],
   "source": [
    "#|export\n",
    "import nbformat"
   ]
  },
  {
   "cell_type": "code",
   "execution_count": null,
   "id": "b8b9b0bd",
   "metadata": {},
   "outputs": [],
   "source": [
    "#|export\n",
    "def nbexport(nbname):\n",
    "    with open(nbname, 'r', encoding='utf-8') as f:\n",
    "        nb = nbformat.read(f, as_version=4)\n",
    "    cells = [c.source for c in nb.cells if c.cell_type == 'code' and '#|export' in c.source]\n",
    "    cells = [\"\\n\".join(c.split('\\n')[1:]) for c in cells]\n",
    "    pyname = nbname.replace('.ipynb', '.py')\n",
    "    with open(pyname, 'w', encoding='utf-8') as f:\n",
    "        f.write(f\"# Don\\'t edit this file! This was automatically generated from \\\"{nbname}\\\".\\n\\n\")\n",
    "        f.write(\"\\n\\n\".join(cells))\n",
    "        f.write('\\n')"
   ]
  },
  {
   "cell_type": "code",
   "execution_count": null,
   "id": "03a3de1c",
   "metadata": {},
   "outputs": [],
   "source": [
    "nbexport('train.ipynb')"
   ]
  },
  {
   "cell_type": "code",
   "execution_count": null,
   "id": "c2cfc731",
   "metadata": {},
   "outputs": [
    {
     "name": "stdout",
     "output_type": "stream",
     "text": [
      "import torch\r\n",
      "import torch.nn as nn\r\n",
      "import torch.optim as optim\r\n",
      "from torchvision import datasets, transforms\r\n",
      "from torch.utils.data import DataLoader, random_split\r\n",
      "import matplotlib.pyplot as plt\r\n",
      "\r\n",
      "class SimpleNN(nn.Module):\r\n",
      "    def __init__(self):\r\n",
      "        super(SimpleNN, self).__init__()\r\n"
     ]
    }
   ],
   "source": [
    "!head train.py"
   ]
  }
 ],
 "metadata": {
  "kernelspec": {
   "display_name": "python3",
   "language": "python",
   "name": "python3"
  }
 },
 "nbformat": 4,
 "nbformat_minor": 5
}
