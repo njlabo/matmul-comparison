{
 "cells": [
  {
   "cell_type": "code",
   "execution_count": 7,
   "id": "fc6e2c8a",
   "metadata": {},
   "outputs": [],
   "source": [
    "#|export\n",
    "import torch\n",
    "from torch import nn\n",
    "import struct\n",
    "import numpy as np\n",
    "import subprocess\n",
    "import time\n",
    "import pandas as pd"
   ]
  },
  {
   "cell_type": "code",
   "execution_count": 8,
   "id": "9f79f751",
   "metadata": {},
   "outputs": [],
   "source": [
    "#|export\n",
    "def serialize_fp32(file, tensor):\n",
    "    ''' Write one fp32 tensor to file that is open in wb mode '''\n",
    "    d = tensor.detach().cpu().view(-1).to(torch.float32).numpy()\n",
    "    b = struct.pack(f'{len(d)}f', *d)\n",
    "    file.write(b)\n",
    "\n",
    "def save_model_and_data(data, model):\n",
    "    f = open(\"model.pt\", \"wb\")\n",
    "    for p in model.parameters():\n",
    "        serialize_fp32(f, p)\n",
    "    f.close()\n",
    "\n",
    "    f = open(\"data.txt\", \"wb\")\n",
    "    serialize_fp32(f, data)\n",
    "    f.close()\n",
    "\n",
    "def execute_commands(commands):\n",
    "    f = open(\"stdout.txt\", \"wb\")\n",
    "    durations = []\n",
    "    for cmd in commands:\n",
    "        start_time = time.time()\n",
    "        proc = subprocess.Popen(cmd, stdout=f, stderr=subprocess.PIPE)\n",
    "        proc.wait()\n",
    "        duration = time.time() - start_time\n",
    "        durations.append(duration)\n",
    "    f.close()\n",
    "\n",
    "    return durations\n",
    "\n",
    "def calculate_time(data, model, commands):\n",
    "    save_model_and_data(data, model)\n",
    "    start_time = time.time()\n",
    "    ref = model(data).detach().numpy().flatten()\n",
    "    print(\"Python: {:.3f} seconds\".format(time.time() - start_time))\n",
    "\n",
    "    # C: Four execution with and without OpenMP and BLAS support\n",
    "    durations = execute_commands(commands)\n",
    "\n",
    "    # check results match reference values\n",
    "    res = np.loadtxt(\"stdout.txt\").reshape(4, len(ref))\n",
    "    for i in range(4):\n",
    "        assert np.allclose(res[i], ref, rtol=1e-05, atol=1e-06)\n",
    "\n",
    "    # display durations\n",
    "    df = pd.DataFrame(np.array(durations).reshape(2,2)).round(3)\n",
    "    df.columns = [\"Without BLAS\", \"With BLAS\"]\n",
    "    df.index = [\"Without OpenMP\", \"With OpenMP\"]\n",
    "    print(df, \"\\n\")"
   ]
  },
  {
   "cell_type": "code",
   "execution_count": 9,
   "id": "54070f83",
   "metadata": {},
   "outputs": [],
   "source": [
    "#|export\n",
    "def test_linear():\n",
    "    dim = 4096\n",
    "    data = torch.rand(dim)\n",
    "    fc = nn.Linear(dim, dim, bias=True)\n",
    "    model = nn.Sequential(*[fc for _ in range(100)])\n",
    "    # C: Four execution with and without OpenMP and BLAS support\n",
    "    commands = [\"./run-linear\", [\"./run-linear\", \"blas\"], \"./run-linear-p\", [\"./run-linear-p\", \"blas\"]]\n",
    "    calculate_time(data, model, commands)"
   ]
  },
  {
   "cell_type": "code",
   "execution_count": 10,
   "id": "d925ee3e",
   "metadata": {},
   "outputs": [
    {
     "name": "stdout",
     "output_type": "stream",
     "text": [
      "Python: 0.447 seconds\n",
      "                Without BLAS  With BLAS\n",
      "Without OpenMP         1.694      0.122\n",
      "With OpenMP            0.471      0.128 \n",
      "\n"
     ]
    }
   ],
   "source": [
    "test_linear()"
   ]
  },
  {
   "cell_type": "code",
   "execution_count": 11,
   "id": "aacb451f",
   "metadata": {},
   "outputs": [],
   "source": [
    "#|export\n",
    "def test_conv():\n",
    "    nch_in, h, w = 3, 28, 28\n",
    "    nch_hid, ks, st, pad = 64, 3, 1, 1\n",
    "    data = torch.rand(nch_in * h * w).view(1, nch_in, h, w)\n",
    "    conv_in = nn.Conv2d(nch_in, nch_hid, ks, st, pad, bias=True)\n",
    "    conv = nn.Conv2d(nch_hid, nch_hid, ks, st, pad, bias=True)\n",
    "    model = nn.Sequential(conv_in, *[conv for _ in range(100)])\n",
    "\n",
    "    # C: Four execution with and without OpenMP and BLAS support\n",
    "    commands = [\"./run-conv\", [\"./run-conv\", \"blas\"], \"./run-conv-p\", [\"./run-conv-p\", \"blas\"]]\n",
    "    calculate_time(data, model, commands)"
   ]
  },
  {
   "cell_type": "code",
   "execution_count": 12,
   "id": "78bc6439",
   "metadata": {},
   "outputs": [
    {
     "name": "stdout",
     "output_type": "stream",
     "text": [
      "Python: 0.118 seconds\n",
      "                Without BLAS  With BLAS\n",
      "Without OpenMP         3.159      0.052\n",
      "With OpenMP            0.626      0.037 \n",
      "\n"
     ]
    }
   ],
   "source": [
    "test_conv()"
   ]
  },
  {
   "cell_type": "code",
   "execution_count": null,
   "id": "f3cc0592",
   "metadata": {},
   "outputs": [],
   "source": []
  }
 ],
 "metadata": {
  "kernelspec": {
   "display_name": "Python 3 (ipykernel)",
   "language": "python",
   "name": "python3"
  },
  "language_info": {
   "codemirror_mode": {
    "name": "ipython",
    "version": 3
   },
   "file_extension": ".py",
   "mimetype": "text/x-python",
   "name": "python",
   "nbconvert_exporter": "python",
   "pygments_lexer": "ipython3",
   "version": "3.10.0"
  }
 },
 "nbformat": 4,
 "nbformat_minor": 5
}
