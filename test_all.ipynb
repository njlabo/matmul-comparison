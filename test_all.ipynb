{
 "cells": [
  {
   "cell_type": "code",
   "execution_count": 112,
   "id": "fc6e2c8a",
   "metadata": {},
   "outputs": [],
   "source": [
    "#|export\n",
    "import torch\n",
    "from torch import nn\n",
    "import struct\n",
    "import numpy as np\n",
    "import subprocess\n",
    "import time\n",
    "import pandas as pd"
   ]
  },
  {
   "cell_type": "code",
   "execution_count": 113,
   "id": "9f79f751",
   "metadata": {},
   "outputs": [],
   "source": [
    "#|export\n",
    "def serialize_fp32(file, tensor):\n",
    "    ''' Write one fp32 tensor to file that is open in wb mode '''\n",
    "    d = tensor.detach().cpu().view(-1).to(torch.float32).numpy()\n",
    "    b = struct.pack(f'{len(d)}f', *d)\n",
    "    file.write(b)"
   ]
  },
  {
   "cell_type": "code",
   "execution_count": 130,
   "id": "54070f83",
   "metadata": {},
   "outputs": [],
   "source": [
    "#|export\n",
    "def test_linear():\n",
    "    inp = 4096\n",
    "    out = 4096\n",
    "\n",
    "    fc = nn.Linear(inp, out, bias=True)\n",
    "\n",
    "    model = nn.Sequential(*[fc for _ in range(1000)])\n",
    "    f = open(\"model.pt\", \"wb\")\n",
    "    for p in model.parameters():\n",
    "        serialize_fp32(f, p)\n",
    "    f.close()\n",
    "\n",
    "    data = torch.rand(inp)\n",
    "    f = open(\"data.txt\", \"wb\")\n",
    "    serialize_fp32(f, data)\n",
    "    f.close()\n",
    "\n",
    "    # measure the time it takes to perform linear operations \n",
    "    # Python\n",
    "    start_time = time.time()\n",
    "    ref = model(data).detach().numpy()\n",
    "    print(\"Python: {:.3f} seconds\".format(time.time() - start_time))\n",
    "\n",
    "    # write outputs C to make sure later the results match\n",
    "    f = open(\"stdout.txt\", \"wb\")\n",
    "\n",
    "    # C: Four execution with and without OpenMP and BLAS support\n",
    "    commands = [\"./run-linear\", [\"./run-linear\", \"blas\"], \"./run-linear-p\", [\"./run-linear-p\", \"blas\"]]\n",
    "    durations = []\n",
    "    for command in commands:\n",
    "        start_time = time.time()\n",
    "        proc = subprocess.Popen(command, stdout=f, stderr=subprocess.PIPE)\n",
    "        proc.wait()\n",
    "        duration = time.time() - start_time\n",
    "        durations.append(duration)\n",
    "        print(\"{}: {:.3f} seconds\".format(command, duration))\n",
    "\n",
    "    f.close()\n",
    "\n",
    "    # ensure the results match\n",
    "    res = np.loadtxt(\"stdout.txt\").reshape(4, out)\n",
    "    for i in range(4):\n",
    "        assert np.allclose(res[i], ref, rtol=1e-05, atol=1e-06) # Python and C non-optimized\n",
    "\n",
    "    df = pd.DataFrame(np.array(durations).reshape(2,2)).round(3)\n",
    "    df.columns = [\"Without BLAS\", \"With BLAS\"]\n",
    "    df.index = [\"Without OpenMP\", \"With OpenMP\"]\n",
    "    print()\n",
    "    print(df)"
   ]
  },
  {
   "cell_type": "code",
   "execution_count": 131,
   "id": "d925ee3e",
   "metadata": {},
   "outputs": [
    {
     "name": "stdout",
     "output_type": "stream",
     "text": [
      "Python: 3.081 seconds\n",
      "./run-linear: 14.082 seconds\n",
      "['./run-linear', 'blas']: 1.069 seconds\n",
      "./run-linear-p: 2.905 seconds\n",
      "['./run-linear-p', 'blas']: 1.072 seconds\n",
      "\n",
      "                Without BLAS  With BLAS\n",
      "Without OpenMP        14.082      1.069\n",
      "With OpenMP            2.905      1.072\n"
     ]
    }
   ],
   "source": [
    "test_linear()"
   ]
  },
  {
   "cell_type": "code",
   "execution_count": 132,
   "id": "d6bb18f5",
   "metadata": {},
   "outputs": [],
   "source": [
    "#|export\n",
    "def test_conv():\n",
    "    conv_in = nn.Conv2d(3, 64, 3, 1, 1, bias=True)\n",
    "    conv = nn.Conv2d(64, 64, 3, 1, 1, bias=True)\n",
    "\n",
    "    model = nn.Sequential(conv_in, *[conv for _ in range(100)])\n",
    "    f = open(\"model.pt\", \"wb\")\n",
    "    for p in model.parameters():\n",
    "        serialize_fp32(f, p)\n",
    "    f.close()\n",
    "\n",
    "    data = torch.rand(3 * 28 * 28).view(1, 3, 28, 28)\n",
    "    f = open(\"data.txt\", \"wb\")\n",
    "    serialize_fp32(f, data)\n",
    "    f.close()\n",
    "\n",
    "    # measure the time it takes to perform convolutional operations \n",
    "    # Python\n",
    "    start_time = time.time()\n",
    "    ref = model(data).detach().numpy()\n",
    "    print(\"Python: {:.3f} seconds\".format(time.time() - start_time))\n",
    "\n",
    "    # write outputs C to make sure later the results match\n",
    "    f = open(\"stdout.txt\", \"wb\")\n",
    "\n",
    "    # C: Four execution with and without OpenMP and BLAS support\n",
    "    commands = [\"./run-conv\", [\"./run-conv\", \"blas\"], \"./run-conv-p\", [\"./run-conv-p\", \"blas\"]]\n",
    "    durations = []\n",
    "    for command in commands:\n",
    "        start_time = time.time()\n",
    "        proc = subprocess.Popen(command, stdout=f, stderr=subprocess.PIPE)\n",
    "        proc.wait()\n",
    "        duration = time.time() - start_time\n",
    "        durations.append(duration)\n",
    "        print(\"{}: {:.3f} seconds\".format(command, duration))\n",
    "\n",
    "    f.close()\n",
    "\n",
    "    # ensure the results match\n",
    "    res = np.loadtxt(\"stdout.txt\").reshape(4, 64, 28, 28)\n",
    "    for i in range(4):\n",
    "        assert np.allclose(res[i], ref, rtol=1e-05, atol=1e-06) # Python and C non-optimized\n",
    "\n",
    "    df = pd.DataFrame(np.array(durations).reshape(2,2)).round(3)\n",
    "    df.columns = [\"Without BLAS\", \"With BLAS\"]\n",
    "    df.index = [\"Without OpenMP\", \"With OpenMP\"]\n",
    "    print()\n",
    "    print(df)"
   ]
  },
  {
   "cell_type": "code",
   "execution_count": 133,
   "id": "78bc6439",
   "metadata": {},
   "outputs": [
    {
     "name": "stdout",
     "output_type": "stream",
     "text": [
      "Python: 0.117 seconds\n",
      "./run-conv: 2.977 seconds\n",
      "['./run-conv', 'blas']: 0.054 seconds\n",
      "./run-conv-p: 0.490 seconds\n",
      "['./run-conv-p', 'blas']: 0.039 seconds\n",
      "\n",
      "                Without BLAS  With BLAS\n",
      "Without OpenMP         2.977      0.054\n",
      "With OpenMP            0.490      0.039\n"
     ]
    }
   ],
   "source": [
    "test_conv()"
   ]
  },
  {
   "cell_type": "code",
   "execution_count": null,
   "id": "53211e35",
   "metadata": {},
   "outputs": [],
   "source": []
  }
 ],
 "metadata": {
  "kernelspec": {
   "display_name": "Python 3 (ipykernel)",
   "language": "python",
   "name": "python3"
  },
  "language_info": {
   "codemirror_mode": {
    "name": "ipython",
    "version": 3
   },
   "file_extension": ".py",
   "mimetype": "text/x-python",
   "name": "python",
   "nbconvert_exporter": "python",
   "pygments_lexer": "ipython3",
   "version": "3.10.0"
  }
 },
 "nbformat": 4,
 "nbformat_minor": 5
}
